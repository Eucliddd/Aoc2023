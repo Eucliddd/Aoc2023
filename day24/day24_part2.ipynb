{
 "cells": [
  {
   "cell_type": "code",
   "execution_count": null,
   "metadata": {},
   "outputs": [],
   "source": [
    "from sympy import symbols, Eq, solve\n",
    "import re\n",
    "\n",
    "hailstones = []\n",
    "with open('input.txt') as f:\n",
    "    lines = f.readlines()\n",
    "    for line in lines:\n",
    "        matches = re.findall(r'[-+]?\\d+', line)\n",
    "        hailstone = tuple([int(match) for match in matches[:6]])\n",
    "        hailstones.append(hailstone)\n",
    "\n",
    "print(hailstones)    "
   ]
  },
  {
   "cell_type": "code",
   "execution_count": 2,
   "metadata": {},
   "outputs": [
    {
     "name": "stdout",
     "output_type": "stream",
     "text": [
      "[{t1: t3, t2: t3}, {t1: 559206148970, t2: 608753836687, t3: 587146725944}, {t1: 45325980619199589/81302 - sqrt(7728916479024430823641843762969)/81302, t2: 45325980619199589/81302 - sqrt(7728916479024430823641843762969)/81302, t3: 45325980619199589/81302 - sqrt(7728916479024430823641843762969)/81302}, {t1: sqrt(7728916479024430823641843762969)/81302 + 45325980619199589/81302, t2: sqrt(7728916479024430823641843762969)/81302 + 45325980619199589/81302, t3: sqrt(7728916479024430823641843762969)/81302 + 45325980619199589/81302}]\n"
     ]
    }
   ],
   "source": [
    "t1, t2, t3 = symbols('t1 t2 t3')\n",
    "\n",
    "eq1 = Eq((t1-t2)*(hailstones[3][0]+hailstones[3][3]*t3) + (t2-t3)*(hailstones[1][0]+hailstones[1][3]*t1) + (t3-t1)*(hailstones[2][0]+hailstones[2][3]*t2), 0)\n",
    "eq2 = Eq((t1-t2)*(hailstones[3][1]+hailstones[3][4]*t3) + (t2-t3)*(hailstones[1][1]+hailstones[1][4]*t1) + (t3-t1)*(hailstones[2][1]+hailstones[2][4]*t2), 0)\n",
    "eq3 = Eq((t1-t2)*(hailstones[3][2]+hailstones[3][5]*t3) + (t2-t3)*(hailstones[1][2]+hailstones[1][5]*t1) + (t3-t1)*(hailstones[2][2]+hailstones[2][5]*t2), 0)\n",
    "\n",
    "solutions = solve((eq1, eq2, eq3), (t1, t2, t3),dict=True)\n",
    "\n",
    "print(solutions)"
   ]
  },
  {
   "cell_type": "code",
   "execution_count": 3,
   "metadata": {},
   "outputs": [
    {
     "name": "stdout",
     "output_type": "stream",
     "text": [
      "True\n"
     ]
    }
   ],
   "source": [
    "solution = solutions[1]\n",
    "\n",
    "T1, T2, T3 = solution[t1], solution[t2], solution[t3]\n",
    "\n",
    "x1, y1, z1 = hailstones[1][0] + hailstones[1][3]*T1, hailstones[1][1] + hailstones[1][4]*T1, hailstones[1][2] + hailstones[1][5]*T1\n",
    "x2, y2, z2 = hailstones[2][0] + hailstones[2][3]*T2, hailstones[2][1] + hailstones[2][4]*T2, hailstones[2][2] + hailstones[2][5]*T2\n",
    "x3, y3, z3 = hailstones[3][0] + hailstones[3][3]*T3, hailstones[3][1] + hailstones[3][4]*T3, hailstones[3][2] + hailstones[3][5]*T3\n",
    "\n",
    "# check if (x1, y1, z1) and (x2, y2, z2) and (x3, y3, z3) are on the same line\n",
    "def are_points_collinear(x1, y1, z1, x2, y2, z2, x3, y3, z3):\n",
    "\n",
    "    vector1 = (x2 - x1, y2 - y1, z2 - z1)\n",
    "    vector2 = (x3 - x1, y3 - y1, z3 - z1)\n",
    "\n",
    "\n",
    "    if vector1[0] / vector2[0] == vector1[1] / vector2[1] == vector1[2] / vector2[2]:\n",
    "        return True\n",
    "    else:\n",
    "        return False\n",
    "\n",
    "print(are_points_collinear(x1, y1, z1, x2, y2, z2, x3, y3, z3))"
   ]
  },
  {
   "cell_type": "code",
   "execution_count": 4,
   "metadata": {},
   "outputs": [
    {
     "name": "stdout",
     "output_type": "stream",
     "text": [
      "268 -197 68\n"
     ]
    }
   ],
   "source": [
    "# find the velocity vector\n",
    "v_x = (x2 - x1) / (T2 - T1)\n",
    "v_y = (y2 - y1) / (T2 - T1)\n",
    "v_z = (z2 - z1) / (T2 - T1)\n",
    "\n",
    "print(v_x, v_y, v_z)"
   ]
  },
  {
   "cell_type": "code",
   "execution_count": 5,
   "metadata": {},
   "outputs": [
    {
     "name": "stdout",
     "output_type": "stream",
     "text": [
      "131633231355646 371683716481156 238674624073734\n",
      "741991571910536\n"
     ]
    }
   ],
   "source": [
    "X, Y, Z = x1 - v_x*T1, y1 - v_y*T1, z1 - v_z*T1\n",
    "print(X, Y, Z)\n",
    "print(X + Y + Z)"
   ]
  }
 ],
 "metadata": {
  "kernelspec": {
   "display_name": "Python 3",
   "language": "python",
   "name": "python3"
  },
  "language_info": {
   "codemirror_mode": {
    "name": "ipython",
    "version": 3
   },
   "file_extension": ".py",
   "mimetype": "text/x-python",
   "name": "python",
   "nbconvert_exporter": "python",
   "pygments_lexer": "ipython3",
   "version": "3.11.4"
  }
 },
 "nbformat": 4,
 "nbformat_minor": 2
}
